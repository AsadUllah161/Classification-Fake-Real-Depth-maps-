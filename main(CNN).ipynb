{
  "cells": [
    {
      "cell_type": "markdown",
      "metadata": {
        "id": "ilW0BQoqlpOF"
      },
      "source": [
        "# **Machine Learning Semester Project**\n",
        "\n",
        "\n",
        "1.   Muhammad Abdullah Khalid (401168)\n",
        "2.   Rana Muhammad Saad (400363)\n",
        "3.   Asadullah Zafar (402646)\n",
        "\n"
      ]
    },
    {
      "cell_type": "code",
      "execution_count": null,
      "metadata": {
        "id": "FpgCDoxnxRf-"
      },
      "outputs": [],
      "source": [
        "import numpy as np\n",
        "import cv2\n",
        "from keras.models import Sequential\n",
        "from keras.layers import Dense, Flatten\n",
        "from keras.layers.convolutional import Conv2D\n",
        "from keras.layers.pooling import AveragePooling2D\n",
        "from keras import regularizers\n",
        "from keras import losses"
      ]
    },
    {
      "cell_type": "markdown",
      "metadata": {
        "id": "VM7LNBFCmCkk"
      },
      "source": [
        "Importng the relevant file names"
      ]
    },
    {
      "cell_type": "code",
      "execution_count": null,
      "metadata": {
        "id": "aWBdQukax5wP",
        "colab": {
          "base_uri": "https://localhost:8080/"
        },
        "outputId": "37bc604a-a762-4574-b898-f6eeca15d414"
      },
      "outputs": [
        {
          "output_type": "stream",
          "name": "stdout",
          "text": [
            "100\n"
          ]
        }
      ],
      "source": [
        "import os\n",
        "from os import listdir\n",
        "filename = []\n",
        "# get the path/directory\n",
        "folder_dir = \"/content/drive/MyDrive/Copy of ML_DATA/Project data/nyu/office_0003_out\"\n",
        "for images in os.listdir(folder_dir):\n",
        " \n",
        "    # check if the image ends with png\n",
        "    if (images.endswith(\".png\")):\n",
        "        filename.append(images)\n",
        "print(len(filename))"
      ]
    },
    {
      "cell_type": "code",
      "source": [
        "import os\n",
        "from os import listdir\n",
        "# get the path/directory\n",
        "folder_dir = \"/content/drive/MyDrive/Copy of ML_DATA/Project data/nyu/bedroom_0081_out\"\n",
        "for images in os.listdir(folder_dir):\n",
        " \n",
        "    # check if the image ends with png\n",
        "    if (images.endswith(\".png\")):\n",
        "        filename.append(images)\n",
        "print(len(filename))"
      ],
      "metadata": {
        "colab": {
          "base_uri": "https://localhost:8080/"
        },
        "id": "BFHTOr-UCOFv",
        "outputId": "2c1a3e74-2e4f-4415-eb15-f6a60ed7a83e"
      },
      "execution_count": null,
      "outputs": [
        {
          "output_type": "stream",
          "name": "stdout",
          "text": [
            "171\n"
          ]
        }
      ]
    },
    {
      "cell_type": "code",
      "source": [
        "import os\n",
        "from os import listdir\n",
        "# get the path/directory\n",
        "folder_dir = \"/content/drive/MyDrive/Copy of ML_DATA/Project data/nyu/living_room_0006_out\"\n",
        "for images in os.listdir(folder_dir):\n",
        " \n",
        "    # check if the image ends with png\n",
        "    if (images.endswith(\".png\")):\n",
        "        filename.append(images)\n",
        "print(len(filename))"
      ],
      "metadata": {
        "colab": {
          "base_uri": "https://localhost:8080/"
        },
        "id": "xfRtlmFACxbi",
        "outputId": "c2a6e1c8-7487-4528-ebe6-253bc683c645"
      },
      "execution_count": null,
      "outputs": [
        {
          "output_type": "stream",
          "name": "stdout",
          "text": [
            "210\n"
          ]
        }
      ]
    },
    {
      "cell_type": "code",
      "source": [
        "import os\n",
        "from os import listdir\n",
        "# get the path/directory\n",
        "folder_dir = \"/content/drive/MyDrive/ML_DATA/Project data/nyu/nyu_office_0_out\"\n",
        "for images in os.listdir(folder_dir):\n",
        " \n",
        "    # check if the image ends with png\n",
        "    if (images.endswith(\".png\")):\n",
        "        filename.append(images)\n",
        "print(len(filename))"
      ],
      "metadata": {
        "colab": {
          "base_uri": "https://localhost:8080/"
        },
        "id": "3VQz9BCEC6wC",
        "outputId": "f3808fda-cffa-4ee5-f69c-5c8a2c589a6f"
      },
      "execution_count": null,
      "outputs": [
        {
          "output_type": "stream",
          "name": "stdout",
          "text": [
            "825\n"
          ]
        }
      ]
    },
    {
      "cell_type": "code",
      "source": [
        "import os\n",
        "from os import listdir\n",
        "# get the path/directory\n",
        "folder_dir = \"/content/drive/MyDrive/Copy of ML_DATA/Project data/nyu/bedroom_0080_out\"\n",
        "for images in os.listdir(folder_dir):\n",
        " \n",
        "    # check if the image ends with png\n",
        "    if (images.endswith(\".png\")):\n",
        "        filename.append(images)\n",
        "print(len(filename))"
      ],
      "metadata": {
        "colab": {
          "base_uri": "https://localhost:8080/"
        },
        "id": "6c-Ni6zQD2_R",
        "outputId": "5dcb368f-be8e-49d8-bfc9-edc778eb8b04"
      },
      "execution_count": null,
      "outputs": [
        {
          "output_type": "stream",
          "name": "stdout",
          "text": [
            "926\n"
          ]
        }
      ]
    },
    {
      "cell_type": "code",
      "execution_count": null,
      "metadata": {
        "id": "C9EDpokOi8E-",
        "colab": {
          "base_uri": "https://localhost:8080/"
        },
        "outputId": "17178454-81ee-4ea1-c7c3-c2da7534051c"
      },
      "outputs": [
        {
          "output_type": "stream",
          "name": "stdout",
          "text": [
            "1927\n"
          ]
        }
      ],
      "source": [
        "i = 0\n",
        "# get the path/directory\n",
        "folder_dir = \"/content/drive/MyDrive/Copy of ML_DATA/Project data/virtual11/virtual\"\n",
        "for images in os.listdir(folder_dir):\n",
        "  i = i+1\n",
        "    # check if the image ends with png\n",
        "  if (images.endswith(\".png\")):\n",
        "      filename.append(images)\n",
        "  if(i > 1000):\n",
        "    break\n",
        "print(len(filename))"
      ]
    },
    {
      "cell_type": "markdown",
      "metadata": {
        "id": "plvDgtSZmHvE"
      },
      "source": [
        "Importing the images"
      ]
    },
    {
      "cell_type": "code",
      "execution_count": null,
      "metadata": {
        "id": "3aonpIFxjQm0"
      },
      "outputs": [],
      "source": [
        "images = np.array([])\n",
        "for file in filename[0:101]:\n",
        "  path = \"/content/drive/MyDrive/Copy of ML_DATA/Project data/nyu/office_0003_out/\" + file\n",
        "  image = cv2.imread(path)\n",
        "  images = np.append(images, image[::2, ::2, 1])\n",
        "for file in filename[101:172]:\n",
        "  path = \"/content/drive/MyDrive/Copy of ML_DATA/Project data/nyu/bedroom_0081_out/\" + file\n",
        "  image = cv2.imread(path)\n",
        "  images = np.append(images, image[::2, ::2, 1])\n",
        "for file in filename[172:210]:\n",
        "  path = \"/content/drive/MyDrive/Copy of ML_DATA/Project data/nyu/living_room_0006_out/\" + file\n",
        "  image = cv2.imread(path)\n",
        "  images = np.append(images, image[::2, ::2, 1])\n",
        "for file in filename[211:826]:\n",
        "  path = \"/content/drive/MyDrive/Copy of ML_DATA/Project data/nyu/nyu_office_0_out/\" + file\n",
        "  image = cv2.imread(path)\n",
        "  images = np.append(images, image[::2, ::2, 1])\n",
        "for file in filename[826:926]:\n",
        "  path = \"/content/drive/MyDrive/Copy of ML_DATA/Project data/nyu/bedroom_0080_out/\" + file\n",
        "  image = cv2.imread(path)\n",
        "  images = np.append(images, image[::2, ::2, 1])\n",
        "for file in filename[927:1500]:\n",
        "  path = \"/content/drive/MyDrive/Copy of ML_DATA/Project data/virtual11/virtual/\" + file\n",
        "  image = cv2.imread(path)\n",
        "  images = np.append(images, image[::2, ::2, 1])"
      ]
    },
    {
      "cell_type": "code",
      "source": [
        "for file in filename[1222:1500]:\n",
        "  path = \"/content/drive/MyDrive/Copy of ML_DATA/Project data/virtual11/virtual/\" + file\n",
        "  image = cv2.imread(path)\n",
        "  images = np.append(images, image[:, :, 1])"
      ],
      "metadata": {
        "id": "WDdBrZj_LAer"
      },
      "execution_count": null,
      "outputs": []
    },
    {
      "cell_type": "markdown",
      "metadata": {
        "id": "I9C96UgHmLLt"
      },
      "source": [
        "Shaping the Images to our desired size"
      ]
    },
    {
      "cell_type": "code",
      "execution_count": null,
      "metadata": {
        "id": "QVkDYLzu1nUh"
      },
      "outputs": [],
      "source": [
        "images = np.reshape(images, (-1, 240, 320))"
      ]
    },
    {
      "cell_type": "code",
      "source": [
        "print(images.shape)"
      ],
      "metadata": {
        "colab": {
          "base_uri": "https://localhost:8080/"
        },
        "id": "BztoymCKK7nM",
        "outputId": "68a29724-4f0f-4a6b-af02-7f71efb66313"
      },
      "execution_count": null,
      "outputs": [
        {
          "output_type": "stream",
          "name": "stdout",
          "text": [
            "(1498, 240, 320)\n"
          ]
        }
      ]
    },
    {
      "cell_type": "markdown",
      "metadata": {
        "id": "vu2A2vYxmUV2"
      },
      "source": [
        "Adding the Labels in one-hot notation"
      ]
    },
    {
      "cell_type": "code",
      "execution_count": null,
      "metadata": {
        "id": "5Rt4mzit0MVA"
      },
      "outputs": [],
      "source": [
        "labels = np.zeros((1799, 2))\n",
        "labels[0:926] = [1, 0]\n",
        "labels[926:1500] = [0, 1]"
      ]
    },
    {
      "cell_type": "markdown",
      "metadata": {
        "id": "yGEl3ZJtmQHN"
      },
      "source": [
        "Random Shuffling the Images"
      ]
    },
    {
      "cell_type": "code",
      "execution_count": null,
      "metadata": {
        "id": "zToOSr7tzy52"
      },
      "outputs": [],
      "source": [
        "def shuffle(a, b):\n",
        "  x = np.random.permutation(1498)\n",
        "  return a[x], b[x]\n",
        "images, labels = shuffle(images,labels)"
      ]
    },
    {
      "cell_type": "markdown",
      "metadata": {
        "id": "w-I72r-Umb_W"
      },
      "source": [
        "Feature Normalization"
      ]
    },
    {
      "cell_type": "code",
      "execution_count": null,
      "metadata": {
        "id": "buKE29mu0iQU"
      },
      "outputs": [],
      "source": [
        "u = images.mean(0).reshape((1,)+images.shape[1:])\n",
        "o = np.maximum(images.std(0).reshape((1,)+images.shape[1:]), 1e-10)\n",
        "images = (images - u)/o"
      ]
    },
    {
      "cell_type": "code",
      "execution_count": null,
      "metadata": {
        "id": "651NwvlxEZyd"
      },
      "outputs": [],
      "source": [
        "images_train = images[0:1300]"
      ]
    },
    {
      "cell_type": "markdown",
      "metadata": {
        "id": "2Bj6je6gmgke"
      },
      "source": [
        "Creating the Convolutional Neural Network Model"
      ]
    },
    {
      "cell_type": "code",
      "execution_count": null,
      "metadata": {
        "id": "r05rsxUFilSE"
      },
      "outputs": [],
      "source": [
        "input_shape = (240, 320)\n",
        "model = Sequential()\n",
        "model.add(Conv2D(5, (20, 20), activation=\"relu\"))\n",
        "model.add(AveragePooling2D((2, 2)))\n",
        "model.add(Conv2D(5, (20, 20), activation=\"relu\"))\n",
        "model.add(AveragePooling2D((2, 2)))\n",
        "model.add(Conv2D(5, (20, 20), activation=\"relu\"))\n",
        "model.add(AveragePooling2D((2, 2)))\n",
        "model.add(Flatten())\n",
        "model.add(Dense(50, activation = 'relu'))\n",
        "model.add(Dense(25, activation = 'relu'))\n",
        "model.add(Dense(10, activation = 'relu'))\n",
        "model.add(Dense(2, activation = \"softmax\"))"
      ]
    },
    {
      "cell_type": "code",
      "execution_count": null,
      "metadata": {
        "colab": {
          "base_uri": "https://localhost:8080/"
        },
        "id": "0Z1DzhX82NqY",
        "outputId": "7e56abbe-82cf-49c9-a23b-e1bdea90aa97"
      },
      "outputs": [
        {
          "output_type": "stream",
          "name": "stdout",
          "text": [
            "Epoch 1/8\n",
            "15/15 [==============================] - 363s 24s/step - loss: 0.3399 - acc: 0.7734 - val_loss: 0.2472 - val_acc: 1.0000\n",
            "Epoch 2/8\n",
            "15/15 [==============================] - 364s 24s/step - loss: 0.2695 - acc: 0.9956 - val_loss: 0.2416 - val_acc: 1.0000\n",
            "Epoch 3/8\n",
            "15/15 [==============================] - 360s 24s/step - loss: 0.2623 - acc: 0.9956 - val_loss: 0.2349 - val_acc: 1.0000\n",
            "Epoch 4/8\n",
            "15/15 [==============================] - 359s 24s/step - loss: 0.2546 - acc: 0.9956 - val_loss: 0.2283 - val_acc: 1.0000\n",
            "Epoch 5/8\n",
            "15/15 [==============================] - 350s 23s/step - loss: 0.2471 - acc: 0.9956 - val_loss: 0.2211 - val_acc: 1.0000\n",
            "Epoch 6/8\n",
            "15/15 [==============================] - 352s 23s/step - loss: 0.2394 - acc: 0.9956 - val_loss: 0.2138 - val_acc: 1.0000\n",
            "Epoch 7/8\n",
            "15/15 [==============================] - 346s 23s/step - loss: 0.2315 - acc: 0.9956 - val_loss: 0.2059 - val_acc: 1.0000\n",
            "Epoch 8/8\n",
            "15/15 [==============================] - 342s 23s/step - loss: 0.2230 - acc: 0.9956 - val_loss: 0.1976 - val_acc: 1.0000\n"
          ]
        },
        {
          "output_type": "execute_result",
          "data": {
            "text/plain": [
              "<keras.callbacks.History at 0x7f7d9ae0c940>"
            ]
          },
          "metadata": {},
          "execution_count": 21
        }
      ],
      "source": [
        "model.compile(loss=\"categorical_crossentropy\", optimizer=\"adam\", metrics=[\"acc\"])\n",
        "model.fit(images_train.reshape(-1, 240, 320, 1), labels, batch_size=64, epochs=8, validation_split=0.3)"
      ]
    },
    {
      "cell_type": "code",
      "source": [
        "model.save_weights('model.h5')"
      ],
      "metadata": {
        "id": "Z_kQsFvNCbwt"
      },
      "execution_count": null,
      "outputs": []
    },
    {
      "cell_type": "code",
      "source": [
        "images_dict = {'Data': images}"
      ],
      "metadata": {
        "id": "hhNdW6BjVTnF"
      },
      "execution_count": null,
      "outputs": []
    },
    {
      "cell_type": "code",
      "source": [
        "from scipy.io import savemat\n",
        "savemat('Data4.mat', images_dict)"
      ],
      "metadata": {
        "id": "1rXM7qrVU7iW"
      },
      "execution_count": null,
      "outputs": []
    },
    {
      "cell_type": "code",
      "source": [
        "from scipy.io import loadmat\n",
        "Data = loadmat('/content/drive/MyDrive/Data4.mat')"
      ],
      "metadata": {
        "id": "pCrAt2kyr9GQ"
      },
      "execution_count": null,
      "outputs": []
    },
    {
      "cell_type": "code",
      "source": [
        "images = Data['Data']"
      ],
      "metadata": {
        "id": "hZzjLaACsHPa"
      },
      "execution_count": null,
      "outputs": []
    },
    {
      "cell_type": "code",
      "execution_count": null,
      "metadata": {
        "id": "A0U91KgGoH6U"
      },
      "outputs": [],
      "source": [
        "def RealOrFake(image):\n",
        "  j = model.predict(image.reshape(1, 480, 640, 1))\n",
        "  if(j[0,0] > j[0,1]):\n",
        "    print('Fake Depth')\n",
        "  else:\n",
        "    print('Real Depth')"
      ]
    },
    {
      "cell_type": "code",
      "execution_count": null,
      "metadata": {
        "colab": {
          "base_uri": "https://localhost:8080/",
          "height": 321
        },
        "id": "-mM5KYUJoef-",
        "outputId": "f13cce0f-41cf-4f41-a051-abb3981753c2"
      },
      "outputs": [
        {
          "name": "stdout",
          "output_type": "stream",
          "text": [
            "1/1 [==============================] - 1s 653ms/step\n",
            "Fake Depth\n"
          ]
        },
        {
          "data": {
            "text/plain": [
              "<matplotlib.image.AxesImage at 0x7f1695338ee0>"
            ]
          },
          "execution_count": 17,
          "metadata": {},
          "output_type": "execute_result"
        },
        {
          "data": {
            "image/png": "[encoded data removed]",
            "text/plain": [
              "<Figure size 432x288 with 1 Axes>"
            ]
          },
          "metadata": {},
          "output_type": "display_data"
        }
      ],
      "source": [
        "import matplotlib.pyplot as plt\n",
        "RealOrFake(images[172])\n",
        "plt.imshow(images[172])"
      ]
    }
  ],
  "metadata": {
    "colab": {
      "provenance": []
    },
    "kernelspec": {
      "display_name": "Python 3",
      "name": "python3"
    },
    "language_info": {
      "name": "python"
    }
  },
  "nbformat": 4,
  "nbformat_minor": 0
}